{
 "cells": [
  {
   "cell_type": "code",
   "execution_count": null,
   "metadata": {},
   "outputs": [],
   "source": [
    "%pip install pyarrow\n",
    "%pip install fastparquet\n"
   ]
  },
  {
   "cell_type": "code",
   "execution_count": 1,
   "metadata": {},
   "outputs": [],
   "source": [
    "import pandas as pd\n",
    "import misdirection_analysis\n",
    "import pyarrow\n",
    "import fastparquet\n"
   ]
  },
  {
   "cell_type": "code",
   "execution_count": 6,
   "metadata": {},
   "outputs": [],
   "source": [
    "week1 = pd.read_csv('data/tracking_week_1.csv')\n",
    "tracking_df = pd.DataFrame()\n",
    "gameIds = week1['gameId'].unique()"
   ]
  },
  {
   "cell_type": "code",
   "execution_count": 7,
   "metadata": {},
   "outputs": [],
   "source": [
    "games = pd.read_csv('data/games.csv')\n",
    "player_plays = pd.read_csv('data/player_play.csv')\n",
    "\n",
    "players = pd.read_csv('data/players.csv')\n",
    "wrs = players[players['position'] == 'WR']\n",
    "\n",
    "wr_plays = player_plays[player_plays['nflId'].isin(wrs['nflId'])]\n",
    "\n",
    "plays = pd.read_csv('data/plays.csv')\n",
    "pass_plays = plays[plays['isDropback'] == True]\n",
    "pass_plays = pd.merge(pass_plays, wr_plays[['gameId', 'playId', 'premotion_classification']], on=('gameId', 'playId'))\n",
    "\n",
    "plays = plays[plays['gameId'].isin(gameIds)]\n",
    "pass_plays = pass_plays[pass_plays['gameId'].isin(gameIds)]\n",
    "wr_plays = wr_plays[wr_plays['gameId'].isin(gameIds)]"
   ]
  },
  {
   "cell_type": "code",
   "execution_count": 8,
   "metadata": {},
   "outputs": [],
   "source": [
    "\n",
    "\n",
    "for game in gameIds:\n",
    "    tracking_df = pd.concat([tracking_df, misdirection_analysis.load_tracking_adjusted(game)], ignore_index=True)\n"
   ]
  },
  {
   "cell_type": "code",
   "execution_count": 27,
   "metadata": {},
   "outputs": [],
   "source": [
    "def get_play_separation(gameId, playId, nflId):\n",
    "    play = tracking_df[(tracking_df['gameId'] == gameId) & (tracking_df['playId'] == playId) & (tracking_df['nflId'] == nflId)]\n",
    "\n",
    "    try:\n",
    "        pass_frame = play[play['event'] == 'pass_forward']\n",
    "        pass_frame = pass_frame['frameId'].values[0]\n",
    "\n",
    "        before_pass = play[play['frameId'] == pass_frame - 10]\n",
    "        before_pass = before_pass['separation'].values[0]\n",
    "        pass_frame = play[play['frameId'] == pass_frame]\n",
    "        pass_frame = pass_frame['separation'].values[0]\n",
    "\n",
    "        return pass_frame - before_pass\n",
    "    except:\n",
    "        return None\n",
    "\n"
   ]
  },
  {
   "cell_type": "code",
   "execution_count": 28,
   "metadata": {},
   "outputs": [],
   "source": [
    "separations = []\n",
    "\n",
    "for _, play in pass_plays.iterrows():\n",
    "    player_play = wr_plays[(wr_plays['gameId'] == play['gameId']) & (wr_plays['playId'] == play['playId'])]\n",
    "\n",
    "    target = player_play[player_play['wasTargettedReceiver'] == 1]\n",
    "    target = target['nflId']\n",
    "\n",
    "    if len(target) > 0:\n",
    "        separations.append(get_play_separation(play['gameId'], play['playId'], target.values[0]))\n",
    "    else:\n",
    "        separations.append(None)\n"
   ]
  },
  {
   "cell_type": "code",
   "execution_count": 29,
   "metadata": {},
   "outputs": [],
   "source": [
    "pass_plays['separation'] = separations"
   ]
  },
  {
   "cell_type": "code",
   "execution_count": 31,
   "metadata": {},
   "outputs": [],
   "source": [
    "pass_plays.dropna(subset=['separation'], inplace=True)"
   ]
  },
  {
   "cell_type": "markdown",
   "metadata": {},
   "source": [
    "anova by motion type"
   ]
  },
  {
   "cell_type": "code",
   "execution_count": 35,
   "metadata": {},
   "outputs": [
    {
     "name": "stdout",
     "output_type": "stream",
     "text": [
      "Collecting statsmodels\n",
      "  Downloading statsmodels-0.14.4-cp310-cp310-macosx_11_0_arm64.whl.metadata (9.2 kB)\n",
      "Requirement already satisfied: numpy<3,>=1.22.3 in ./python/env/lib/python3.10/site-packages (from statsmodels) (2.1.3)\n",
      "Requirement already satisfied: scipy!=1.9.2,>=1.8 in ./python/env/lib/python3.10/site-packages (from statsmodels) (1.14.1)\n",
      "Requirement already satisfied: pandas!=2.1.0,>=1.4 in ./python/env/lib/python3.10/site-packages (from statsmodels) (2.2.3)\n",
      "Collecting patsy>=0.5.6 (from statsmodels)\n",
      "  Downloading patsy-1.0.1-py2.py3-none-any.whl.metadata (3.3 kB)\n",
      "Requirement already satisfied: packaging>=21.3 in ./python/env/lib/python3.10/site-packages (from statsmodels) (24.2)\n",
      "Requirement already satisfied: python-dateutil>=2.8.2 in ./python/env/lib/python3.10/site-packages (from pandas!=2.1.0,>=1.4->statsmodels) (2.9.0.post0)\n",
      "Requirement already satisfied: pytz>=2020.1 in ./python/env/lib/python3.10/site-packages (from pandas!=2.1.0,>=1.4->statsmodels) (2024.2)\n",
      "Requirement already satisfied: tzdata>=2022.7 in ./python/env/lib/python3.10/site-packages (from pandas!=2.1.0,>=1.4->statsmodels) (2024.2)\n",
      "Requirement already satisfied: six>=1.5 in ./python/env/lib/python3.10/site-packages (from python-dateutil>=2.8.2->pandas!=2.1.0,>=1.4->statsmodels) (1.16.0)\n",
      "Downloading statsmodels-0.14.4-cp310-cp310-macosx_11_0_arm64.whl (9.9 MB)\n",
      "\u001b[2K   \u001b[38;2;114;156;31m━━━━━━━━━━━━━━━━━━━━━━━━━━━━━━━━━━━━━━━━\u001b[0m \u001b[32m9.9/9.9 MB\u001b[0m \u001b[31m58.5 MB/s\u001b[0m eta \u001b[36m0:00:00\u001b[0m[36m0:00:01\u001b[0m\n",
      "\u001b[?25hDownloading patsy-1.0.1-py2.py3-none-any.whl (232 kB)\n",
      "Installing collected packages: patsy, statsmodels\n",
      "Successfully installed patsy-1.0.1 statsmodels-0.14.4\n",
      "Note: you may need to restart the kernel to use updated packages.\n"
     ]
    }
   ],
   "source": [
    "%pip install statsmodels"
   ]
  },
  {
   "cell_type": "code",
   "execution_count": 36,
   "metadata": {},
   "outputs": [],
   "source": [
    "import statsmodels.api as sm\n",
    "from statsmodels.formula.api import ols\n",
    "from statsmodels.stats.anova import anova_lm"
   ]
  },
  {
   "cell_type": "code",
   "execution_count": 37,
   "metadata": {},
   "outputs": [
    {
     "data": {
      "text/html": [
       "<div>\n",
       "<style scoped>\n",
       "    .dataframe tbody tr th:only-of-type {\n",
       "        vertical-align: middle;\n",
       "    }\n",
       "\n",
       "    .dataframe tbody tr th {\n",
       "        vertical-align: top;\n",
       "    }\n",
       "\n",
       "    .dataframe thead th {\n",
       "        text-align: right;\n",
       "    }\n",
       "</style>\n",
       "<table border=\"1\" class=\"dataframe\">\n",
       "  <thead>\n",
       "    <tr style=\"text-align: right;\">\n",
       "      <th></th>\n",
       "      <th>gameId</th>\n",
       "      <th>playId</th>\n",
       "      <th>playDescription</th>\n",
       "      <th>quarter</th>\n",
       "      <th>down</th>\n",
       "      <th>yardsToGo</th>\n",
       "      <th>possessionTeam</th>\n",
       "      <th>defensiveTeam</th>\n",
       "      <th>yardlineSide</th>\n",
       "      <th>yardlineNumber</th>\n",
       "      <th>...</th>\n",
       "      <th>visitorTeamWinProbilityAdded</th>\n",
       "      <th>expectedPointsAdded</th>\n",
       "      <th>isDropback</th>\n",
       "      <th>pff_runConceptPrimary</th>\n",
       "      <th>pff_runConceptSecondary</th>\n",
       "      <th>pff_runPassOption</th>\n",
       "      <th>pff_passCoverage</th>\n",
       "      <th>pff_manZone</th>\n",
       "      <th>premotion_classification</th>\n",
       "      <th>separation</th>\n",
       "    </tr>\n",
       "  </thead>\n",
       "  <tbody>\n",
       "    <tr>\n",
       "      <th>12</th>\n",
       "      <td>2022091104</td>\n",
       "      <td>3662</td>\n",
       "      <td>(12:51) (Shotgun) J.Hurts pass incomplete shor...</td>\n",
       "      <td>4</td>\n",
       "      <td>3</td>\n",
       "      <td>12</td>\n",
       "      <td>PHI</td>\n",
       "      <td>DET</td>\n",
       "      <td>PHI</td>\n",
       "      <td>35</td>\n",
       "      <td>...</td>\n",
       "      <td>-0.012361</td>\n",
       "      <td>-1.161621</td>\n",
       "      <td>True</td>\n",
       "      <td>NaN</td>\n",
       "      <td>NaN</td>\n",
       "      <td>0</td>\n",
       "      <td>Cover-0</td>\n",
       "      <td>Man</td>\n",
       "      <td>NaN</td>\n",
       "      <td>0.014232</td>\n",
       "    </tr>\n",
       "    <tr>\n",
       "      <th>13</th>\n",
       "      <td>2022091104</td>\n",
       "      <td>3662</td>\n",
       "      <td>(12:51) (Shotgun) J.Hurts pass incomplete shor...</td>\n",
       "      <td>4</td>\n",
       "      <td>3</td>\n",
       "      <td>12</td>\n",
       "      <td>PHI</td>\n",
       "      <td>DET</td>\n",
       "      <td>PHI</td>\n",
       "      <td>35</td>\n",
       "      <td>...</td>\n",
       "      <td>-0.012361</td>\n",
       "      <td>-1.161621</td>\n",
       "      <td>True</td>\n",
       "      <td>NaN</td>\n",
       "      <td>NaN</td>\n",
       "      <td>0</td>\n",
       "      <td>Cover-0</td>\n",
       "      <td>Man</td>\n",
       "      <td>NaN</td>\n",
       "      <td>0.014232</td>\n",
       "    </tr>\n",
       "    <tr>\n",
       "      <th>14</th>\n",
       "      <td>2022091104</td>\n",
       "      <td>3662</td>\n",
       "      <td>(12:51) (Shotgun) J.Hurts pass incomplete shor...</td>\n",
       "      <td>4</td>\n",
       "      <td>3</td>\n",
       "      <td>12</td>\n",
       "      <td>PHI</td>\n",
       "      <td>DET</td>\n",
       "      <td>PHI</td>\n",
       "      <td>35</td>\n",
       "      <td>...</td>\n",
       "      <td>-0.012361</td>\n",
       "      <td>-1.161621</td>\n",
       "      <td>True</td>\n",
       "      <td>NaN</td>\n",
       "      <td>NaN</td>\n",
       "      <td>0</td>\n",
       "      <td>Cover-0</td>\n",
       "      <td>Man</td>\n",
       "      <td>NaN</td>\n",
       "      <td>0.014232</td>\n",
       "    </tr>\n",
       "    <tr>\n",
       "      <th>21</th>\n",
       "      <td>2022091112</td>\n",
       "      <td>1674</td>\n",
       "      <td>(:35) (Shotgun) A.Rodgers pass deep left inten...</td>\n",
       "      <td>2</td>\n",
       "      <td>1</td>\n",
       "      <td>10</td>\n",
       "      <td>GB</td>\n",
       "      <td>MIN</td>\n",
       "      <td>GB</td>\n",
       "      <td>25</td>\n",
       "      <td>...</td>\n",
       "      <td>-0.003262</td>\n",
       "      <td>-1.071627</td>\n",
       "      <td>True</td>\n",
       "      <td>NaN</td>\n",
       "      <td>NaN</td>\n",
       "      <td>0</td>\n",
       "      <td>Cover-2</td>\n",
       "      <td>Zone</td>\n",
       "      <td>NaN</td>\n",
       "      <td>0.299196</td>\n",
       "    </tr>\n",
       "    <tr>\n",
       "      <th>22</th>\n",
       "      <td>2022091112</td>\n",
       "      <td>1674</td>\n",
       "      <td>(:35) (Shotgun) A.Rodgers pass deep left inten...</td>\n",
       "      <td>2</td>\n",
       "      <td>1</td>\n",
       "      <td>10</td>\n",
       "      <td>GB</td>\n",
       "      <td>MIN</td>\n",
       "      <td>GB</td>\n",
       "      <td>25</td>\n",
       "      <td>...</td>\n",
       "      <td>-0.003262</td>\n",
       "      <td>-1.071627</td>\n",
       "      <td>True</td>\n",
       "      <td>NaN</td>\n",
       "      <td>NaN</td>\n",
       "      <td>0</td>\n",
       "      <td>Cover-2</td>\n",
       "      <td>Zone</td>\n",
       "      <td>NaN</td>\n",
       "      <td>0.299196</td>\n",
       "    </tr>\n",
       "  </tbody>\n",
       "</table>\n",
       "<p>5 rows × 52 columns</p>\n",
       "</div>"
      ],
      "text/plain": [
       "        gameId  playId                                    playDescription  \\\n",
       "12  2022091104    3662  (12:51) (Shotgun) J.Hurts pass incomplete shor...   \n",
       "13  2022091104    3662  (12:51) (Shotgun) J.Hurts pass incomplete shor...   \n",
       "14  2022091104    3662  (12:51) (Shotgun) J.Hurts pass incomplete shor...   \n",
       "21  2022091112    1674  (:35) (Shotgun) A.Rodgers pass deep left inten...   \n",
       "22  2022091112    1674  (:35) (Shotgun) A.Rodgers pass deep left inten...   \n",
       "\n",
       "    quarter  down  yardsToGo possessionTeam defensiveTeam yardlineSide  \\\n",
       "12        4     3         12            PHI           DET          PHI   \n",
       "13        4     3         12            PHI           DET          PHI   \n",
       "14        4     3         12            PHI           DET          PHI   \n",
       "21        2     1         10             GB           MIN           GB   \n",
       "22        2     1         10             GB           MIN           GB   \n",
       "\n",
       "    yardlineNumber  ... visitorTeamWinProbilityAdded  expectedPointsAdded  \\\n",
       "12              35  ...                    -0.012361            -1.161621   \n",
       "13              35  ...                    -0.012361            -1.161621   \n",
       "14              35  ...                    -0.012361            -1.161621   \n",
       "21              25  ...                    -0.003262            -1.071627   \n",
       "22              25  ...                    -0.003262            -1.071627   \n",
       "\n",
       "    isDropback pff_runConceptPrimary  pff_runConceptSecondary  \\\n",
       "12        True                   NaN                      NaN   \n",
       "13        True                   NaN                      NaN   \n",
       "14        True                   NaN                      NaN   \n",
       "21        True                   NaN                      NaN   \n",
       "22        True                   NaN                      NaN   \n",
       "\n",
       "    pff_runPassOption  pff_passCoverage  pff_manZone premotion_classification  \\\n",
       "12                  0           Cover-0          Man                      NaN   \n",
       "13                  0           Cover-0          Man                      NaN   \n",
       "14                  0           Cover-0          Man                      NaN   \n",
       "21                  0           Cover-2         Zone                      NaN   \n",
       "22                  0           Cover-2         Zone                      NaN   \n",
       "\n",
       "   separation  \n",
       "12   0.014232  \n",
       "13   0.014232  \n",
       "14   0.014232  \n",
       "21   0.299196  \n",
       "22   0.299196  \n",
       "\n",
       "[5 rows x 52 columns]"
      ]
     },
     "execution_count": 37,
     "metadata": {},
     "output_type": "execute_result"
    }
   ],
   "source": [
    "pass_plays.head()"
   ]
  },
  {
   "cell_type": "code",
   "execution_count": 38,
   "metadata": {},
   "outputs": [
    {
     "name": "stdout",
     "output_type": "stream",
     "text": [
      "                             df      sum_sq   mean_sq         F  PR(>F)\n",
      "premotion_classification   19.0   53.151863  2.797466  0.524151  0.9483\n",
      "Residual                  148.0  789.895999  5.337135       NaN     NaN\n"
     ]
    }
   ],
   "source": [
    "model = ols('separation ~ premotion_classification', data=pass_plays).fit()\n",
    "anova_table = anova_lm(model)\n",
    "\n",
    "# Print the ANOVA table\n",
    "print(anova_table)"
   ]
  },
  {
   "cell_type": "code",
   "execution_count": 43,
   "metadata": {},
   "outputs": [],
   "source": [
    "import numpy as np\n",
    "pass_plays['motion'] = np.where(pass_plays['premotion_classification'].isna(), 0, 1)"
   ]
  },
  {
   "cell_type": "code",
   "execution_count": 44,
   "metadata": {},
   "outputs": [
    {
     "name": "stdout",
     "output_type": "stream",
     "text": [
      "T-statistic: -0.33023344682459643\n",
      "P-value: 0.7415534923735824\n",
      "Degrees of Freedom: 209.54905125339334\n"
     ]
    }
   ],
   "source": [
    "from statsmodels.stats.weightstats import ttest_ind\n",
    "motion = pass_plays[pass_plays['motion'] == 1]['separation']\n",
    "no_motion = pass_plays[pass_plays['motion'] == 0]['separation']\n",
    "\n",
    "t_stat, p_value, df = ttest_ind(motion, no_motion, usevar='unequal')\n",
    "\n",
    "# Print results\n",
    "print(f\"T-statistic: {t_stat}\")\n",
    "print(f\"P-value: {p_value}\")\n",
    "print(f\"Degrees of Freedom: {df}\")"
   ]
  }
 ],
 "metadata": {
  "kernelspec": {
   "display_name": "env",
   "language": "python",
   "name": "python3"
  },
  "language_info": {
   "codemirror_mode": {
    "name": "ipython",
    "version": 3
   },
   "file_extension": ".py",
   "mimetype": "text/x-python",
   "name": "python",
   "nbconvert_exporter": "python",
   "pygments_lexer": "ipython3",
   "version": "3.10.14"
  }
 },
 "nbformat": 4,
 "nbformat_minor": 2
}
