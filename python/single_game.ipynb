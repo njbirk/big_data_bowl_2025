{
 "cells": [
  {
   "cell_type": "code",
   "execution_count": 2,
   "metadata": {},
   "outputs": [],
   "source": [
    "import animate\n",
    "import numpy as np\n",
    "import pandas as pd\n",
    "project_dir = '../data/'"
   ]
  },
  {
   "cell_type": "code",
   "execution_count": 3,
   "metadata": {},
   "outputs": [],
   "source": [
    "games = pd.read_csv(\"../data/games.csv\")\n",
    "plays = pd.read_csv(\"../data/plays.csv\")\n",
    "tracking_df = pd.read_csv(\"../data/tracking_week_1.csv\")"
   ]
  },
  {
   "cell_type": "markdown",
   "metadata": {},
   "source": [
    "Testing animation"
   ]
  },
  {
   "cell_type": "code",
   "execution_count": null,
   "metadata": {},
   "outputs": [
    {
     "ename": "IndexError",
     "evalue": "list index out of range",
     "output_type": "error",
     "traceback": [
      "\u001b[0;31m---------------------------------------------------------------------------\u001b[0m",
      "\u001b[0;31mIndexError\u001b[0m                                Traceback (most recent call last)",
      "Cell \u001b[0;32mIn[6], line 4\u001b[0m\n\u001b[1;32m      1\u001b[0m gid \u001b[38;5;241m=\u001b[39m \u001b[38;5;241m2022091809\u001b[39m\n\u001b[1;32m      2\u001b[0m pid \u001b[38;5;241m=\u001b[39m \u001b[38;5;241m3698\u001b[39m\n\u001b[0;32m----> 4\u001b[0m \u001b[43manimate\u001b[49m\u001b[38;5;241;43m.\u001b[39;49m\u001b[43manimate_play\u001b[49m\u001b[43m(\u001b[49m\u001b[43mgames\u001b[49m\u001b[38;5;241;43m=\u001b[39;49m\u001b[43mgames\u001b[49m\u001b[43m,\u001b[49m\u001b[43m \u001b[49m\u001b[43mtracking_df\u001b[49m\u001b[38;5;241;43m=\u001b[39;49m\u001b[43mtracking_df\u001b[49m\u001b[43m,\u001b[49m\u001b[43m \u001b[49m\u001b[43mplay_df\u001b[49m\u001b[38;5;241;43m=\u001b[39;49m\u001b[43mplays\u001b[49m\u001b[43m,\u001b[49m\u001b[43m \u001b[49m\u001b[43mplayers\u001b[49m\u001b[38;5;241;43m=\u001b[39;49m\u001b[38;5;28;43;01mNone\u001b[39;49;00m\u001b[43m,\u001b[49m\u001b[43m \u001b[49m\u001b[43mgameId\u001b[49m\u001b[38;5;241;43m=\u001b[39;49m\u001b[43mgid\u001b[49m\u001b[43m,\u001b[49m\u001b[43m \u001b[49m\u001b[43mplayId\u001b[49m\u001b[38;5;241;43m=\u001b[39;49m\u001b[43mpid\u001b[49m\u001b[43m)\u001b[49m\n",
      "File \u001b[0;32m~/Documents/HobbyWork/nfl-bdb-2025/python/animate.py:113\u001b[0m, in \u001b[0;36manimate_play\u001b[0;34m(games, tracking_df, play_df, players, gameId, playId)\u001b[0m\n\u001b[1;32m    111\u001b[0m \u001b[38;5;66;03m# get good color combos\u001b[39;00m\n\u001b[1;32m    112\u001b[0m team_combos \u001b[38;5;241m=\u001b[39m \u001b[38;5;28mlist\u001b[39m(\u001b[38;5;28mset\u001b[39m(selected_tracking_df[\u001b[38;5;124m\"\u001b[39m\u001b[38;5;124mclub\u001b[39m\u001b[38;5;124m\"\u001b[39m]\u001b[38;5;241m.\u001b[39munique()) \u001b[38;5;241m-\u001b[39m \u001b[38;5;28mset\u001b[39m([\u001b[38;5;124m\"\u001b[39m\u001b[38;5;124mfootball\u001b[39m\u001b[38;5;124m\"\u001b[39m]))\n\u001b[0;32m--> 113\u001b[0m color_orders \u001b[38;5;241m=\u001b[39m ColorPairs(\u001b[43mteam_combos\u001b[49m\u001b[43m[\u001b[49m\u001b[38;5;241;43m0\u001b[39;49m\u001b[43m]\u001b[49m, team_combos[\u001b[38;5;241m1\u001b[39m])\n\u001b[1;32m    115\u001b[0m \u001b[38;5;66;03m# get play General information\u001b[39;00m\n\u001b[1;32m    116\u001b[0m line_of_scrimmage \u001b[38;5;241m=\u001b[39m selected_play_df[\u001b[38;5;124m\"\u001b[39m\u001b[38;5;124mabsoluteYardlineNumber\u001b[39m\u001b[38;5;124m\"\u001b[39m]\u001b[38;5;241m.\u001b[39mvalues[\u001b[38;5;241m0\u001b[39m]\n",
      "\u001b[0;31mIndexError\u001b[0m: list index out of range"
     ]
    }
   ],
   "source": [
    "gid = 2022091809\n",
    "pid = 2655\n",
    "\n",
    "animate.animate_play(games=games, tracking_df=tracking_df, play_df=plays, players=None, gameId=gid, playId=pid)"
   ]
  },
  {
   "cell_type": "markdown",
   "metadata": {},
   "source": [
    "Only keeping data for the above game"
   ]
  },
  {
   "cell_type": "code",
   "execution_count": 12,
   "metadata": {},
   "outputs": [
    {
     "data": {
      "text/plain": [
       "Index(['gameId', 'playId', 'playDescription', 'quarter', 'down', 'yardsToGo',\n",
       "       'possessionTeam', 'defensiveTeam', 'yardlineSide', 'yardlineNumber',\n",
       "       'gameClock', 'preSnapHomeScore', 'preSnapVisitorScore',\n",
       "       'playNullifiedByPenalty', 'absoluteYardlineNumber',\n",
       "       'preSnapHomeTeamWinProbability', 'preSnapVisitorTeamWinProbability',\n",
       "       'expectedPoints', 'offenseFormation', 'receiverAlignment',\n",
       "       'playClockAtSnap', 'passResult', 'passLength', 'targetX', 'targetY',\n",
       "       'playAction', 'dropbackType', 'dropbackDistance', 'passLocationType',\n",
       "       'timeToThrow', 'timeInTackleBox', 'timeToSack', 'passTippedAtLine',\n",
       "       'unblockedPressure', 'qbSpike', 'qbKneel', 'qbSneak',\n",
       "       'rushLocationType', 'penaltyYards', 'prePenaltyYardsGained',\n",
       "       'yardsGained', 'homeTeamWinProbabilityAdded',\n",
       "       'visitorTeamWinProbilityAdded', 'expectedPointsAdded', 'isDropback',\n",
       "       'pff_runConceptPrimary', 'pff_runConceptSecondary', 'pff_runPassOption',\n",
       "       'pff_passCoverage', 'pff_manZone'],\n",
       "      dtype='object')"
      ]
     },
     "execution_count": 12,
     "metadata": {},
     "output_type": "execute_result"
    }
   ],
   "source": [
    "plays = plays[plays.gameId == gid].copy()\n",
    "\n",
    "plays.head()\n",
    "plays.columns"
   ]
  },
  {
   "cell_type": "markdown",
   "metadata": {},
   "source": [
    "Feature engineering: filter tracking data and limit to just this game\n",
    "\n",
    "- For each play, calculate aggregate defensive stats (max dist, speed at snap)"
   ]
  },
  {
   "cell_type": "code",
   "execution_count": 15,
   "metadata": {},
   "outputs": [
    {
     "data": {
      "text/html": [
       "<div>\n",
       "<style scoped>\n",
       "    .dataframe tbody tr th:only-of-type {\n",
       "        vertical-align: middle;\n",
       "    }\n",
       "\n",
       "    .dataframe tbody tr th {\n",
       "        vertical-align: top;\n",
       "    }\n",
       "\n",
       "    .dataframe thead th {\n",
       "        text-align: right;\n",
       "    }\n",
       "</style>\n",
       "<table border=\"1\" class=\"dataframe\">\n",
       "  <thead>\n",
       "    <tr style=\"text-align: right;\">\n",
       "      <th></th>\n",
       "      <th>gameId</th>\n",
       "      <th>playId</th>\n",
       "      <th>nflId</th>\n",
       "      <th>frameId</th>\n",
       "      <th>frameType</th>\n",
       "      <th>playDirection</th>\n",
       "      <th>x</th>\n",
       "      <th>y</th>\n",
       "      <th>s</th>\n",
       "      <th>a</th>\n",
       "      <th>dis</th>\n",
       "      <th>o</th>\n",
       "      <th>dir</th>\n",
       "    </tr>\n",
       "  </thead>\n",
       "  <tbody>\n",
       "    <tr>\n",
       "      <th>3198096</th>\n",
       "      <td>2022090800</td>\n",
       "      <td>56</td>\n",
       "      <td>38577.0</td>\n",
       "      <td>1</td>\n",
       "      <td>BEFORE_SNAP</td>\n",
       "      <td>left</td>\n",
       "      <td>81.93</td>\n",
       "      <td>28.52</td>\n",
       "      <td>1.24</td>\n",
       "      <td>0.44</td>\n",
       "      <td>0.12</td>\n",
       "      <td>48.93</td>\n",
       "      <td>305.70</td>\n",
       "    </tr>\n",
       "    <tr>\n",
       "      <th>3198097</th>\n",
       "      <td>2022090800</td>\n",
       "      <td>56</td>\n",
       "      <td>38577.0</td>\n",
       "      <td>2</td>\n",
       "      <td>BEFORE_SNAP</td>\n",
       "      <td>left</td>\n",
       "      <td>81.83</td>\n",
       "      <td>28.59</td>\n",
       "      <td>1.22</td>\n",
       "      <td>0.15</td>\n",
       "      <td>0.12</td>\n",
       "      <td>56.11</td>\n",
       "      <td>304.40</td>\n",
       "    </tr>\n",
       "    <tr>\n",
       "      <th>3198098</th>\n",
       "      <td>2022090800</td>\n",
       "      <td>56</td>\n",
       "      <td>38577.0</td>\n",
       "      <td>3</td>\n",
       "      <td>BEFORE_SNAP</td>\n",
       "      <td>left</td>\n",
       "      <td>81.73</td>\n",
       "      <td>28.66</td>\n",
       "      <td>1.25</td>\n",
       "      <td>0.30</td>\n",
       "      <td>0.12</td>\n",
       "      <td>61.05</td>\n",
       "      <td>301.78</td>\n",
       "    </tr>\n",
       "    <tr>\n",
       "      <th>3198099</th>\n",
       "      <td>2022090800</td>\n",
       "      <td>56</td>\n",
       "      <td>38577.0</td>\n",
       "      <td>4</td>\n",
       "      <td>BEFORE_SNAP</td>\n",
       "      <td>left</td>\n",
       "      <td>81.62</td>\n",
       "      <td>28.72</td>\n",
       "      <td>1.30</td>\n",
       "      <td>0.47</td>\n",
       "      <td>0.13</td>\n",
       "      <td>64.62</td>\n",
       "      <td>298.75</td>\n",
       "    </tr>\n",
       "    <tr>\n",
       "      <th>3198100</th>\n",
       "      <td>2022090800</td>\n",
       "      <td>56</td>\n",
       "      <td>38577.0</td>\n",
       "      <td>5</td>\n",
       "      <td>BEFORE_SNAP</td>\n",
       "      <td>left</td>\n",
       "      <td>81.50</td>\n",
       "      <td>28.78</td>\n",
       "      <td>1.34</td>\n",
       "      <td>0.68</td>\n",
       "      <td>0.13</td>\n",
       "      <td>67.39</td>\n",
       "      <td>293.96</td>\n",
       "    </tr>\n",
       "  </tbody>\n",
       "</table>\n",
       "</div>"
      ],
      "text/plain": [
       "             gameId  playId    nflId  frameId    frameType playDirection  \\\n",
       "3198096  2022090800      56  38577.0        1  BEFORE_SNAP          left   \n",
       "3198097  2022090800      56  38577.0        2  BEFORE_SNAP          left   \n",
       "3198098  2022090800      56  38577.0        3  BEFORE_SNAP          left   \n",
       "3198099  2022090800      56  38577.0        4  BEFORE_SNAP          left   \n",
       "3198100  2022090800      56  38577.0        5  BEFORE_SNAP          left   \n",
       "\n",
       "             x      y     s     a   dis      o     dir  \n",
       "3198096  81.93  28.52  1.24  0.44  0.12  48.93  305.70  \n",
       "3198097  81.83  28.59  1.22  0.15  0.12  56.11  304.40  \n",
       "3198098  81.73  28.66  1.25  0.30  0.12  61.05  301.78  \n",
       "3198099  81.62  28.72  1.30  0.47  0.13  64.62  298.75  \n",
       "3198100  81.50  28.78  1.34  0.68  0.13  67.39  293.96  "
      ]
     },
     "execution_count": 15,
     "metadata": {},
     "output_type": "execute_result"
    }
   ],
   "source": [
    "defensive_tracking = pd.read_csv(f'{project_dir}/defensive_tracking.csv')\n",
    "defensive_tracking = defensive_tracking[defensive_tracking.gameId == gid].copy()\n",
    "defensive_tracking.head()"
   ]
  }
 ],
 "metadata": {
  "kernelspec": {
   "display_name": "base",
   "language": "python",
   "name": "python3"
  },
  "language_info": {
   "codemirror_mode": {
    "name": "ipython",
    "version": 3
   },
   "file_extension": ".py",
   "mimetype": "text/x-python",
   "name": "python",
   "nbconvert_exporter": "python",
   "pygments_lexer": "ipython3",
   "version": "3.10.14"
  }
 },
 "nbformat": 4,
 "nbformat_minor": 2
}
