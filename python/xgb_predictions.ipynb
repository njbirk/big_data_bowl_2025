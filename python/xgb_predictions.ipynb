{
 "cells": [
  {
   "cell_type": "code",
   "execution_count": 6,
   "metadata": {},
   "outputs": [],
   "source": [
    "import pandas as pd\n",
    "import numpy as np\n",
    "import matplotlib.pyplot as plt\n",
    "import seaborn as sns\n",
    "import motion.detection as md\n",
    "import man_vs_zone.clean as cl\n",
    "project_dir = \"../data/\""
   ]
  },
  {
   "cell_type": "code",
   "execution_count": 7,
   "metadata": {},
   "outputs": [],
   "source": [
    "games = pd.read_csv(f'{project_dir}games.csv')\n",
    "play_df = pd.read_csv(f'{project_dir}plays.csv')\n",
    "player_plays = pd.read_csv(f'{project_dir}player_play.csv')\n",
    "players = pd.read_csv(f'{project_dir}players.csv')\n",
    "tracking_df = pd.read_csv(f'{project_dir}tracking_week_1.csv')"
   ]
  },
  {
   "cell_type": "code",
   "execution_count": 3,
   "metadata": {},
   "outputs": [],
   "source": [
    "players = clean.get_postion_groups(players)\n",
    "\n",
    "cleaned_tracking = clean.flip_coords(tracking_df)\n",
    "\n",
    "games = tracking_df['gameId'].unique()\n",
    "play_df = play_df[play_df['gameId'].isin(games)]\n",
    "\n",
    "play_df = play_df[play_df['pff_manZone'] != 'other']\n",
    "tracking_df = tracking_df[(tracking_df['gameId'].isin(play_df['gameId'])) & (tracking_df['playId'].isin(play_df['playId']))]\n",
    "cleaned_tracking = clean.zero_coords(cleaned_tracking, play_df)"
   ]
  },
  {
   "cell_type": "code",
   "execution_count": null,
   "metadata": {},
   "outputs": [],
   "source": [
    "cleaned_tracking = pd.merge(cleaned_tracking, players[['nflId', 'position_group']], on='nflId', how='left')\n",
    "\n",
    "cleaned_tracking = cleaned_tracking[cleaned_tracking['position_group'].isin(['cornerback', 'safety'])]\n",
    "\n",
    "cleaned_tracking['motion_start']"
   ]
  },
  {
   "cell_type": "code",
   "execution_count": null,
   "metadata": {},
   "outputs": [],
   "source": []
  }
 ],
 "metadata": {
  "kernelspec": {
   "display_name": "env",
   "language": "python",
   "name": "python3"
  },
  "language_info": {
   "codemirror_mode": {
    "name": "ipython",
    "version": 3
   },
   "file_extension": ".py",
   "mimetype": "text/x-python",
   "name": "python",
   "nbconvert_exporter": "python",
   "pygments_lexer": "ipython3",
   "version": "3.10.14"
  }
 },
 "nbformat": 4,
 "nbformat_minor": 2
}
